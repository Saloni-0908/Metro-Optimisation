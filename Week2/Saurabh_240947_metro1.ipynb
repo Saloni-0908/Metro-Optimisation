{
 "cells": [
  {
   "cell_type": "markdown",
   "id": "8eb1ecb3",
   "metadata": {},
   "source": [
    "# Assignment 1"
   ]
  },
  {
   "cell_type": "markdown",
   "id": "6584540e",
   "metadata": {},
   "source": [
    " EDA"
   ]
  },
  {
   "cell_type": "markdown",
   "id": "fafbbd20",
   "metadata": {},
   "source": [
    "Importing the libraries"
   ]
  },
  {
   "cell_type": "code",
   "execution_count": 31,
   "id": "f055f485",
   "metadata": {},
   "outputs": [
    {
     "name": "stderr",
     "output_type": "stream",
     "text": [
      "[nltk_data] Downloading package stopwords to\n",
      "[nltk_data]     C:\\Users\\saura\\AppData\\Roaming\\nltk_data...\n",
      "[nltk_data]   Package stopwords is already up-to-date!\n"
     ]
    },
    {
     "data": {
      "text/plain": [
       "True"
      ]
     },
     "execution_count": 31,
     "metadata": {},
     "output_type": "execute_result"
    }
   ],
   "source": [
    "import pandas as pd\n",
    "import numpy as np\n",
    "import matplotlib as pyplot\n",
    "import seaborn as sns\n",
    "\n",
    "# For Data Visualisation\n",
    "import re\n",
    "import string\n",
    "import nltk\n",
    "from nltk.corpus import stopwords\n",
    "nltk.download('stopwords')"
   ]
  },
  {
   "cell_type": "markdown",
   "id": "721f1e24",
   "metadata": {},
   "source": [
    "Reading the csv file"
   ]
  },
  {
   "cell_type": "code",
   "execution_count": 32,
   "id": "fda23e94",
   "metadata": {},
   "outputs": [],
   "source": [
    "df = pd.read_csv(\"SMILES_Big_Data_Set.csv\")"
   ]
  },
  {
   "cell_type": "markdown",
   "id": "67bbb2ce",
   "metadata": {},
   "source": [
    "View of the data"
   ]
  },
  {
   "cell_type": "code",
   "execution_count": 33,
   "id": "85ce045a",
   "metadata": {},
   "outputs": [
    {
     "name": "stdout",
     "output_type": "stream",
     "text": [
      "<class 'pandas.core.frame.DataFrame'>\n",
      "RangeIndex: 16087 entries, 0 to 16086\n",
      "Data columns (total 5 columns):\n",
      " #   Column     Non-Null Count  Dtype  \n",
      "---  ------     --------------  -----  \n",
      " 0   SMILES     16087 non-null  object \n",
      " 1   pIC50      15037 non-null  float64\n",
      " 2   mol        16087 non-null  object \n",
      " 3   num_atoms  16087 non-null  int64  \n",
      " 4   logP       16087 non-null  float64\n",
      "dtypes: float64(2), int64(1), object(2)\n",
      "memory usage: 628.5+ KB\n"
     ]
    },
    {
     "data": {
      "text/plain": [
       "(16087, 5)"
      ]
     },
     "execution_count": 33,
     "metadata": {},
     "output_type": "execute_result"
    }
   ],
   "source": [
    "df.head()\n",
    "df.info()\n",
    "df.describe(include='all')\n",
    "df.shape"
   ]
  },
  {
   "cell_type": "markdown",
   "id": "a6400317",
   "metadata": {},
   "source": [
    "Checking duplicate entries"
   ]
  },
  {
   "cell_type": "code",
   "execution_count": 34,
   "id": "d36e8960",
   "metadata": {},
   "outputs": [
    {
     "data": {
      "text/plain": [
       "np.int64(0)"
      ]
     },
     "execution_count": 34,
     "metadata": {},
     "output_type": "execute_result"
    }
   ],
   "source": [
    "df.duplicated().sum()"
   ]
  },
  {
   "cell_type": "markdown",
   "id": "351f189d",
   "metadata": {},
   "source": [
    "Checking missing entries"
   ]
  },
  {
   "cell_type": "code",
   "execution_count": 35,
   "id": "2dd85571",
   "metadata": {},
   "outputs": [
    {
     "data": {
      "text/plain": [
       "SMILES          0\n",
       "pIC50        1050\n",
       "mol             0\n",
       "num_atoms       0\n",
       "logP            0\n",
       "dtype: int64"
      ]
     },
     "execution_count": 35,
     "metadata": {},
     "output_type": "execute_result"
    }
   ],
   "source": [
    "df.isnull().sum()"
   ]
  },
  {
   "cell_type": "markdown",
   "id": "e19fc0e2",
   "metadata": {},
   "source": [
    "For data inconsistency"
   ]
  },
  {
   "cell_type": "code",
   "execution_count": 36,
   "id": "0d600136",
   "metadata": {},
   "outputs": [
    {
     "data": {
      "text/plain": [
       "mol\n",
       "<rdkit.Chem.rdchem.Mol object at 0x7f59a314ef10>    1\n",
       "<rdkit.Chem.rdchem.Mol object at 0x7f59df45bc30>    1\n",
       "<rdkit.Chem.rdchem.Mol object at 0x7f59a320c9e0>    1\n",
       "<rdkit.Chem.rdchem.Mol object at 0x7f59a320cac0>    1\n",
       "<rdkit.Chem.rdchem.Mol object at 0x7f59a320cba0>    1\n",
       "                                                   ..\n",
       "<rdkit.Chem.rdchem.Mol object at 0x7f59a320cdd0>    1\n",
       "<rdkit.Chem.rdchem.Mol object at 0x7f59a320cd60>    1\n",
       "<rdkit.Chem.rdchem.Mol object at 0x7f59a320ccf0>    1\n",
       "<rdkit.Chem.rdchem.Mol object at 0x7f59a320cc80>    1\n",
       "<rdkit.Chem.rdchem.Mol object at 0x7f59a320cc10>    1\n",
       "Name: count, Length: 16087, dtype: int64"
      ]
     },
     "execution_count": 36,
     "metadata": {},
     "output_type": "execute_result"
    }
   ],
   "source": [
    "df['mol'].unique()\n",
    "df['mol'].value_counts()"
   ]
  },
  {
   "cell_type": "code",
   "execution_count": 37,
   "id": "0adebe0e",
   "metadata": {},
   "outputs": [
    {
     "data": {
      "text/plain": [
       "pIC50\n",
       "0.00    5938\n",
       "0.01    1891\n",
       "0.02     928\n",
       "0.03     584\n",
       "0.04     437\n",
       "        ... \n",
       "4.59       1\n",
       "4.56       1\n",
       "4.53       1\n",
       "4.34       1\n",
       "4.26       1\n",
       "Name: count, Length: 558, dtype: int64"
      ]
     },
     "execution_count": 37,
     "metadata": {},
     "output_type": "execute_result"
    }
   ],
   "source": [
    "df['pIC50'].unique()\n",
    "df['pIC50'].value_counts()"
   ]
  },
  {
   "cell_type": "code",
   "execution_count": 38,
   "id": "1018e095",
   "metadata": {},
   "outputs": [
    {
     "data": {
      "text/plain": [
       "mol\n",
       "<rdkit.Chem.rdchem.Mol object at 0x7f59a314ef10>    1\n",
       "<rdkit.Chem.rdchem.Mol object at 0x7f59df45bc30>    1\n",
       "<rdkit.Chem.rdchem.Mol object at 0x7f59a320c9e0>    1\n",
       "<rdkit.Chem.rdchem.Mol object at 0x7f59a320cac0>    1\n",
       "<rdkit.Chem.rdchem.Mol object at 0x7f59a320cba0>    1\n",
       "                                                   ..\n",
       "<rdkit.Chem.rdchem.Mol object at 0x7f59a320cdd0>    1\n",
       "<rdkit.Chem.rdchem.Mol object at 0x7f59a320cd60>    1\n",
       "<rdkit.Chem.rdchem.Mol object at 0x7f59a320ccf0>    1\n",
       "<rdkit.Chem.rdchem.Mol object at 0x7f59a320cc80>    1\n",
       "<rdkit.Chem.rdchem.Mol object at 0x7f59a320cc10>    1\n",
       "Name: count, Length: 16087, dtype: int64"
      ]
     },
     "execution_count": 38,
     "metadata": {},
     "output_type": "execute_result"
    }
   ],
   "source": [
    "df['mol'].unique()\n",
    "df['mol'].value_counts()"
   ]
  },
  {
   "cell_type": "code",
   "execution_count": 39,
   "id": "3b98b241",
   "metadata": {},
   "outputs": [
    {
     "data": {
      "text/plain": [
       "num_atoms\n",
       "17    937\n",
       "14    926\n",
       "16    912\n",
       "15    897\n",
       "18    869\n",
       "     ... \n",
       "62      1\n",
       "68      1\n",
       "69      1\n",
       "66      1\n",
       "60      1\n",
       "Name: count, Length: 68, dtype: int64"
      ]
     },
     "execution_count": 39,
     "metadata": {},
     "output_type": "execute_result"
    }
   ],
   "source": [
    "df['num_atoms'].unique()\n",
    "df['num_atoms'].value_counts()"
   ]
  },
  {
   "cell_type": "code",
   "execution_count": 40,
   "id": "5824be0f",
   "metadata": {},
   "outputs": [
    {
     "data": {
      "text/plain": [
       "logP\n",
       "7.27400    27\n",
       "6.74590    21\n",
       "3.15604    21\n",
       "6.09250    18\n",
       "3.46446    16\n",
       "           ..\n",
       "2.48408     1\n",
       "0.39260     1\n",
       "0.39260     1\n",
       "2.91130     1\n",
       "1.70887     1\n",
       "Name: count, Length: 12887, dtype: int64"
      ]
     },
     "execution_count": 40,
     "metadata": {},
     "output_type": "execute_result"
    }
   ],
   "source": [
    "df['logP'].unique()\n",
    "df['logP'].value_counts()"
   ]
  },
  {
   "cell_type": "markdown",
   "id": "24686910",
   "metadata": {},
   "source": [
    "Data Visualisation"
   ]
  },
  {
   "cell_type": "markdown",
   "id": "4f427af8",
   "metadata": {},
   "source": [
    "To remove special characters"
   ]
  },
  {
   "cell_type": "code",
   "execution_count": 41,
   "id": "7b193062",
   "metadata": {},
   "outputs": [],
   "source": [
    "df['SMILES'] = df['SMILES'].apply(lambda x: re.sub(r\"http\\S+|www\\S+|@\\w+|#\\w+\", '', x))\n",
    "df['SMILES'] = df['SMILES'].apply(lambda x: re.sub(r\"[^A-Za-z0-9\\s]\", '', x))"
   ]
  },
  {
   "cell_type": "markdown",
   "id": "2dcfe90d",
   "metadata": {},
   "source": [
    "To remove punctuations"
   ]
  },
  {
   "cell_type": "code",
   "execution_count": 42,
   "id": "02f2b7f5",
   "metadata": {},
   "outputs": [],
   "source": [
    "df['SMILES'] = df['SMILES'].apply(lambda x: x.translate(str.maketrans('', '', string.punctuation)))\n",
    "df['SMILES'] = df['SMILES'].str.strip()"
   ]
  },
  {
   "cell_type": "markdown",
   "id": "b7846c47",
   "metadata": {},
   "source": [
    "For lowercase"
   ]
  },
  {
   "cell_type": "code",
   "execution_count": 43,
   "id": "babef1b9",
   "metadata": {},
   "outputs": [],
   "source": [
    "df['SMILES'] = df['SMILES'].str.lower()"
   ]
  },
  {
   "cell_type": "markdown",
   "id": "db7a9975",
   "metadata": {},
   "source": [
    "To remove stopwords"
   ]
  },
  {
   "cell_type": "code",
   "execution_count": 44,
   "id": "68c0ff22",
   "metadata": {},
   "outputs": [],
   "source": [
    "stop_words = set(stopwords.words('english'))\n",
    "df['SMILES'] = df['SMILES'].apply(lambda x: ' '.join([word for word in x.split() if word not in stop_words]))"
   ]
  }
 ],
 "metadata": {
  "kernelspec": {
   "display_name": "Python 3",
   "language": "python",
   "name": "python3"
  },
  "language_info": {
   "codemirror_mode": {
    "name": "ipython",
    "version": 3
   },
   "file_extension": ".py",
   "mimetype": "text/x-python",
   "name": "python",
   "nbconvert_exporter": "python",
   "pygments_lexer": "ipython3",
   "version": "3.13.0"
  }
 },
 "nbformat": 4,
 "nbformat_minor": 5
}
